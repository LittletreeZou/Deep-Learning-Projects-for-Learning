{
 "cells": [
  {
   "cell_type": "markdown",
   "metadata": {},
   "source": [
    "# 论文是如何被引用的？\n",
    "\n",
    "每一篇论文后面通常都会有参考文献，这些参考文献是如何被引用的呢？是（在同一领域论文中）被随机选中的吗？还是说存在着某种隐含模式，比如说马太效应（“穷则越穷，富则越富”）？"
   ]
  },
  {
   "cell_type": "code",
   "execution_count": 2,
   "metadata": {
    "collapsed": false
   },
   "outputs": [],
   "source": [
    "# 从网页链接导入数据（由于数据存储在谷歌服务器，需科学上网，无法科学上网的小伙伴请下载文件数据并从本地导入）\n",
    "\n",
    "import urllib2\n",
    "\n",
    "# Code for loading citation graph\n",
    "\n",
    "CITATION_URL = \"http://storage.googleapis.com/codeskulptor-alg/alg_phys-cite.txt\"\n",
    "\n",
    "def load_graph(graph_url):\n",
    "    \"\"\"\n",
    "    Function that loads a graph given the URL\n",
    "    for a text representation of the graph\n",
    "    \n",
    "    Returns a dictionary that models a graph\n",
    "    \"\"\"\n",
    "    graph_file = urllib2.urlopen(graph_url)\n",
    "    graph_text = graph_file.read()\n",
    "    graph_lines = graph_text.split('\\n')\n",
    "    graph_lines = graph_lines[ : -1]\n",
    "    \n",
    "    print \"Loaded graph with\", len(graph_lines), \"nodes\"\n",
    "    \n",
    "    answer_graph = {}\n",
    "    for line in graph_lines:\n",
    "        neighbors = line.split(' ')\n",
    "        node = int(neighbors[0])\n",
    "        answer_graph[node] = set([])\n",
    "        for neighbor in neighbors[1 : -1]:\n",
    "            answer_graph[node].add(int(neighbor))\n",
    "\n",
    "    return answer_graph\n",
    "\n",
    "#citation_graph = load_graph(CITATION_URL)"
   ]
  },
  {
   "cell_type": "code",
   "execution_count": 10,
   "metadata": {
    "collapsed": false
   },
   "outputs": [
    {
     "name": "stdout",
     "output_type": "stream",
     "text": [
      "Loaded graph with 27770 nodes\n"
     ]
    }
   ],
   "source": [
    "# 从文本文件中导入数据，并存储成以字典表示的有向图（ directed graph）\n",
    "def load_graph(graph_file_path):\n",
    "    \"\"\"\n",
    "    从文本文件中导入数据（以文本表示的图）\n",
    "    返回存以字典表示的有向图（ directed graph）\n",
    "    \"\"\"\n",
    "    answer_graph = {}\n",
    "    \n",
    "    with open(graph_file_path) as data:\n",
    "        for line in data.xreadlines():\n",
    "            neighbors = line.split(' ')\n",
    "            node = int(neighbors[0])\n",
    "            answer_graph[node] = set([])\n",
    "            for neighbor in neighbors[1 : -1]:\n",
    "                answer_graph[node].add(int(neighbor)) \n",
    "    print \"Loaded graph with\", len(answer_graph), \"nodes\"\n",
    "    return answer_graph\n",
    "\n",
    "citation_graph = load_graph('e:\\\\python programs\\\\citation graph data.txt')"
   ]
  },
  {
   "cell_type": "code",
   "execution_count": 75,
   "metadata": {
    "collapsed": true
   },
   "outputs": [],
   "source": [
    "# 计算citation graph的in-degree distribution，并把数据标准化\n",
    "\n",
    "# 先定义一个辅助函数来计算有向图的in-degree\n",
    "def compute_in_degrees(digraph):\n",
    "    \"\"\"\n",
    "    Takes a directed graph digraph (represented as a dictionary) \n",
    "    and computes the in-degrees for the nodes in the graph\n",
    "    returns a dictionary\n",
    "    \"\"\"\n",
    "    # initialize the in_degrees dictionary\n",
    "    in_degrees_dic = {}\n",
    "    for node in digraph:\n",
    "        in_degrees_dic[node] = 0\n",
    "    # compute the indegrees of all nodes\n",
    "    for node in digraph:\n",
    "        adjacent_nodes = digraph[node]\n",
    "        for adj_node in adjacent_nodes:\n",
    "            in_degrees_dic[adj_node] += 1\n",
    "    return in_degrees_dic\n",
    "\n",
    "# 再定义函数来计算有向图的in-degree distribution（normalized）\n",
    "def in_degree_distribution(digraph):\n",
    "    \"\"\"\n",
    "    Takes a directed graph digraph (represented as a dictionary) \n",
    "    and computes the normalized distribution of the in-degrees of the graph\n",
    "    returns a dictionary \n",
    "    \"\"\"\n",
    "    in_degrees_dic = compute_in_degrees(digraph)\n",
    "    distribution_dic = {}\n",
    "    num_nodes = float(len(digraph))\n",
    "    for node in in_degrees_dic:\n",
    "        in_degree = in_degrees_dic[node]\n",
    "        if distribution_dic.has_key(in_degree):\n",
    "            distribution_dic[in_degree] += (1.0/num_nodes)\n",
    "        else:\n",
    "            distribution_dic[in_degree] = (1.0/num_nodes)\n",
    "    return distribution_dic\n",
    "\n",
    "citation_distribution = in_degree_distribution(citation_graph)"
   ]
  },
  {
   "cell_type": "code",
   "execution_count": 76,
   "metadata": {
    "collapsed": false,
    "scrolled": true
   },
   "outputs": [
    {
     "data": {
      "text/plain": [
       "<matplotlib.text.Text at 0xefe9240>"
      ]
     },
     "execution_count": 76,
     "metadata": {},
     "output_type": "execute_result"
    },
    {
     "data": {
      "image/png": "[encoded data removed]",
      "text/plain": [
       "<matplotlib.figure.Figure at 0xd460d68>"
      ]
     },
     "metadata": {},
     "output_type": "display_data"
    }
   ],
   "source": [
    "# 算好了in-degree distribution，画个图可视化一下\n",
    "\n",
    "import matplotlib.pyplot as plt\n",
    "%matplotlib inline\n",
    "\n",
    "xdata = citation_distribution.keys()\n",
    "ydata = citation_distribution.values()\n",
    "plt.loglog(xdata, ydata,'c')\n",
    "plt.title(\"Log-Log Plot of In-degree Distribution of the Citation Graph\")\n",
    "plt.xlabel(\"Citations\")\n",
    "plt.ylabel(\"Fraction of Papers\")"
   ]
  },
  {
   "cell_type": "markdown",
   "metadata": {},
   "source": [
    "根据上面的citation graph的in-degree分布图，我们可以看到，论文被引用次数少的占比较大，随着论文被引用次数增长，论文所占的比例是越来越低的，有点类似长尾分布。但是看了这个图还是没什么感觉，我们找个随机引用模式下的图来对比看看。"
   ]
  },
  {
   "cell_type": "code",
   "execution_count": 77,
   "metadata": {
    "collapsed": true
   },
   "outputs": [],
   "source": [
    "# 生成随机有向图\n",
    "\n",
    "import random\n",
    "\n",
    "def random_digragh(n, p):\n",
    "    \"\"\"\n",
    "    Functions that generate random directed graphs with n nodes\n",
    "    with edge (i,j) in probability p\n",
    "    \n",
    "    Returns a directd graph in dictionary representation\n",
    "    \"\"\"\n",
    "    nodes = range(n)\n",
    "    # initialize the result_graph\n",
    "    result_graph = {}\n",
    "    for node in nodes:\n",
    "        result_graph[node] = set([])\n",
    "    # generate edges\n",
    "    for node in nodes:\n",
    "        rest_nodes = set(nodes) - set([node])\n",
    "        for other_node in rest_nodes:\n",
    "            # generate a random number in [0,1)\n",
    "            ran = random.random()\n",
    "            if ran < p:\n",
    "                # add j to the adjacent nodes\n",
    "                result_graph[node].add(other_node)\n",
    "    return result_graph\n",
    "\n",
    "# test       \n",
    "# print random_digragh(2,1)\n",
    "# print random_digragh(4,0)"
   ]
  },
  {
   "cell_type": "code",
   "execution_count": 78,
   "metadata": {
    "collapsed": true
   },
   "outputs": [],
   "source": [
    "# generate some random directed graphs with len(citation_graph) nodes\n",
    "# NODES = len(citation_graph) that's too large...\n",
    "NODES = 100\n",
    "r_digraph0 = random_digragh(NODES, 0.25)\n",
    "r_digraph1 = random_digragh(NODES, 0.5)\n",
    "r_digraph2 = random_digragh(NODES, 0.75)\n",
    "\n",
    "# compute the in-degrees distributions of the above graph\n",
    "r_digraph0_distribution = in_degree_distribution(r_digraph0)\n",
    "r_digraph1_distribution = in_degree_distribution(r_digraph1)\n",
    "r_digraph2_distribution = in_degree_distribution(r_digraph2)"
   ]
  },
  {
   "cell_type": "code",
   "execution_count": 79,
   "metadata": {
    "collapsed": false
   },
   "outputs": [
    {
     "data": {
      "image/png": "[encoded data removed]",
      "text/plain": [
       "<matplotlib.figure.Figure at 0xf0dd4e0>"
      ]
     },
     "metadata": {},
     "output_type": "display_data"
    }
   ],
   "source": [
    "# plot the citation and the three random graphs's in-degrees distribution graph in log/log scale\n",
    "import matplotlib.pyplot as plt\n",
    "%matplotlib inline\n",
    "\n",
    "# 整张图的标题\n",
    "fig = plt.figure('Log-log In-degrees Distributions of Citation Graph & 3 Random Graphs ')\n",
    "# 在整张图上加入一个子图，2，2，1的意思是在一个2行2列的子图中的第一张\n",
    "ax1 = fig.add_subplot(2, 2, 1)\n",
    "ax1.set_title('Citation Graph')\n",
    "plt.scatter(citation_distribution.keys(), citation_distribution.values())\n",
    "plt.xlabel(\"k\")\n",
    "plt.ylabel(\"p(k)\")\n",
    "\n",
    "# 第2张\n",
    "ax2 = fig.add_subplot(2, 2, 2)\n",
    "ax2.set_title('Random Graph With p = 0.25')\n",
    "plt.scatter(r_digraph0_distribution.keys(), r_digraph0_distribution.values())\n",
    "#plt.xlim([0,max(r_digraph0_distribution.keys())])\n",
    "plt.xlabel(\"k\")\n",
    "plt.ylabel(\"p(k)\")\n",
    "\n",
    "# 第3张\n",
    "ax3 = fig.add_subplot(2, 2, 3)\n",
    "ax3.set_title('Random Graph With p = 0.5')\n",
    "plt.scatter(r_digraph1_distribution.keys(), r_digraph1_distribution.values())\n",
    "#plt.xlim([0,max(r_digraph1_distribution.keys())])\n",
    "plt.xlabel(\"k\")\n",
    "plt.ylabel(\"p(k)\")\n",
    "\n",
    "# 第4张\n",
    "ax4 = fig.add_subplot(2, 2, 4)\n",
    "ax4.set_title('Random Graph With p = 0.75')\n",
    "plt.scatter(r_digraph2_distribution.keys(), r_digraph2_distribution.values())\n",
    "#plt.xlim([0,max(r_digraph2_distribution.keys())])\n",
    "plt.xlabel(\"k\")\n",
    "plt.ylabel(\"p(k)\")\n",
    "\n",
    "# 调整subplot周围的距离\n",
    "# wspace,the amount of width reserved for blank space between subplots,expressed as a fraction of the average axis width\n",
    "# hspace,he amount of height reserved for white space between subplots,expressed as a fraction of the average axis height\n",
    "fig.subplots_adjust(wspace = 0.4, hspace = 0.8)"
   ]
  },
  {
   "cell_type": "markdown",
   "metadata": {},
   "source": [
    "对比我们的citation graph 跟 random graph的in-degree distribution,可以很明显得看到差别，citation graph的in-degree distribution散点图看起来是一条长尾，而random graph的in-degree distribution散点图看起来是个钟形图，很显然，论文引用的模式并不是随机的。我们再来看看另一种模式，这里需要设计一个算法来生成类似马太效应的graph，这里用了DPA算法，思路就是那些in-degree越大的节点被选中作为新节点的neighbor的概率越大，进而又使得它的in-degree更大。"
   ]
  },
  {
   "cell_type": "code",
   "execution_count": 80,
   "metadata": {
    "collapsed": false
   },
   "outputs": [
    {
     "name": "stdout",
     "output_type": "stream",
     "text": [
      "27770 12\n"
     ]
    }
   ],
   "source": [
    "# DPA Algorithm\n",
    "\n",
    "# choose values for n and m that yield a DPA graph \n",
    "# whose number of nodes and edges is roughly the same to those of the citation graph\n",
    "\n",
    "# helper function\n",
    "def compute_avg_outdegree(digraph):\n",
    "    \"\"\"\n",
    "    return average out-degree(integer) of the input graph\n",
    "    \"\"\"\n",
    "    nodes = 0\n",
    "    total_outdegree = 0\n",
    "    for node in digraph:\n",
    "        nodes += 1\n",
    "        total_outdegree += len(digraph[node])\n",
    "    return total_outdegree / nodes\n",
    "\n",
    "\n",
    "# let n be the number of nodes in the citation graph\n",
    "dpa_n = len(citation_graph)\n",
    "\n",
    "# let m be an integer close to the average out-degree of the citation graph\n",
    "dpa_m = compute_avg_outdegree(citation_graph)\n",
    "\n",
    "print dpa_n, dpa_m"
   ]
  },
  {
   "cell_type": "code",
   "execution_count": 81,
   "metadata": {
    "collapsed": true
   },
   "outputs": [],
   "source": [
    "\"\"\"\n",
    "Helper class for implementing efficient version\n",
    "of DPA algorithm\n",
    "\"\"\"\n",
    "class DPATrial:\n",
    "    \"\"\"\n",
    "    Simple class to encapsulate optimized trials for DPA algorithm\n",
    "    \n",
    "    Maintains a list of node numbers with multiple instances of each number.\n",
    "    The number of instances of each node number are\n",
    "    in the same proportion as the desired probabilities\n",
    "    \"\"\"\n",
    "    def __init__(self, num_nodes):\n",
    "        \"\"\"\n",
    "        Initialize a DPATrial object corresponding to a \n",
    "        complete graph with num_nodes nodes\n",
    "        \n",
    "        Note the initial list of node numbers has num_nodes copies of\n",
    "        each node number\n",
    "        \"\"\"\n",
    "        self._num_nodes = num_nodes\n",
    "        self._node_numbers = [node for node in range(num_nodes) for dummy_idx in range(num_nodes)]\n",
    "\n",
    "\n",
    "    def run_trial(self, num_nodes):\n",
    "        \"\"\"\n",
    "        Conduct num_node trials using by applying random.choice()\n",
    "        to the list of node numbers\n",
    "        \n",
    "        Updates the list of node numbers so that the number of instances of\n",
    "        each node number is in the same ratio as the desired probabilities\n",
    "        \n",
    "        Returns:\n",
    "        Set of nodes\n",
    "        \"\"\"\n",
    "        \n",
    "        # compute the neighbors for the newly-created node\n",
    "        new_node_neighbors = set()\n",
    "        for dummy_idx in range(num_nodes):\n",
    "            new_node_neighbors.add(random.choice(self._node_numbers))\n",
    "        \n",
    "        # update the list of node numbers so that each node number \n",
    "        # appears in the correct ratio\n",
    "        self._node_numbers.append(self._num_nodes)\n",
    "        self._node_numbers.extend(list(new_node_neighbors))\n",
    "        \n",
    "        #update the number of nodes\n",
    "        self._num_nodes += 1\n",
    "        return new_node_neighbors"
   ]
  },
  {
   "cell_type": "code",
   "execution_count": 82,
   "metadata": {
    "collapsed": true
   },
   "outputs": [],
   "source": [
    "# helper function to generate complete graph\n",
    "def make_complete_graph(num_nodes):\n",
    "    \"\"\"\n",
    "    Takes the number of nodes num_nodes and\n",
    "    return complete directed graph in dictionary representation\n",
    "    \"\"\"\n",
    "    nodes_set = range(num_nodes)\n",
    "    graph_dic = {}\n",
    "    for node in nodes_set:\n",
    "        adjacent_nodes = set(nodes_set) - set([node])\n",
    "        graph_dic[node] = adjacent_nodes\n",
    "    return graph_dic\n",
    "\n",
    "\n",
    "# implement DPA algorithm\n",
    "def dpa_graph(n, m):\n",
    "    \"\"\"\n",
    "    given num_nodes n and interger m\n",
    "    generate a dpa graph\n",
    "    and return it\n",
    "    \"\"\"\n",
    "    # start from a complete graph of m nodes\n",
    "    num_nodes = m\n",
    "    graph = make_complete_graph(m)\n",
    "    # create a DPATrial object to encapsulate optimized trials for DPA algorithm\n",
    "    dpa_trial = DPATrial(num_nodes)\n",
    "    \n",
    "    for new_node in range(m, n):\n",
    "        new_node_neighbors = dpa_trial.run_trial(num_nodes)\n",
    "        # update graph\n",
    "        graph[new_node] = new_node_neighbors\n",
    "    \n",
    "    return graph  "
   ]
  },
  {
   "cell_type": "code",
   "execution_count": 83,
   "metadata": {
    "collapsed": true
   },
   "outputs": [],
   "source": [
    "# compute a DPA graph with the same number of nodes of the citation graph\n",
    "dpa_graph1 = dpa_graph(dpa_n, dpa_m)"
   ]
  },
  {
   "cell_type": "code",
   "execution_count": 84,
   "metadata": {
    "collapsed": false
   },
   "outputs": [
    {
     "data": {
      "text/plain": [
       "<matplotlib.text.Text at 0x133fc4e0>"
      ]
     },
     "execution_count": 84,
     "metadata": {},
     "output_type": "execute_result"
    },
    {
     "data": {
      "image/png": "[encoded data removed]",
      "text/plain": [
       "<matplotlib.figure.Figure at 0x1053cc50>"
      ]
     },
     "metadata": {},
     "output_type": "display_data"
    }
   ],
   "source": [
    "# compute a log/log plot of the points in the dpa graph's in-degree distribution\n",
    "# compute in-degree distribution of dpa_graph1\n",
    "dpa_graph1_distribution = in_degree_distribution(dpa_graph1)\n",
    "\n",
    "xdata1 = dpa_graph1_distribution.keys()\n",
    "ydata1 = dpa_graph1_distribution.values()\n",
    "plt.loglog(xdata1, ydata1, basex = 10, basey = 10, linestyle = \"dotted\")\n",
    "plt.title(\"Log-Log Plot of In-degree Distribution of DPA Graph\")\n",
    "plt.xlabel(\"In-degrees\")\n",
    "plt.ylabel(\"Fraction of nodes\")"
   ]
  },
  {
   "cell_type": "markdown",
   "metadata": {},
   "source": [
    "DPA graph的in-degree distribution plot看起来跟citation graph的in-degree distribution plot比较类似，都是随着论文被引用次数增长，论文数量占比下降。也就是说被引用次数很多的论文占的是少数，大部分论文都是被引用很少次的。这跟我们的认知是很相似的。\n",
    "\n",
    "**那么为什么是这样一种模式呢？**\n",
    "\n",
    "从DPA算法的设计中我们得到一些灵感，那些被引用次数越多的论文，其曝光次数越多，被越多的人看到，然后这些人又引用了这些论文，就像滚雪球一样，越滚越大。而那些默默无闻的论文，由于曝光次数太少，就渐渐沉了，更加不会被引用了。\n",
    "\n",
    "其实这个模式还是很显而易见的啦。"
   ]
  }
 ],
 "metadata": {
  "kernelspec": {
   "display_name": "Python 2",
   "language": "python",
   "name": "python2"
  },
  "language_info": {
   "codemirror_mode": {
    "name": "ipython",
    "version": 2
   },
   "file_extension": ".py",
   "mimetype": "text/x-python",
   "name": "python",
   "nbconvert_exporter": "python",
   "pygments_lexer": "ipython2",
   "version": "2.7.11"
  }
 },
 "nbformat": 4,
 "nbformat_minor": 2
}
